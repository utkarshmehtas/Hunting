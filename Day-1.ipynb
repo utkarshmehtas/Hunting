{
  "nbformat": 4,
  "nbformat_minor": 0,
  "metadata": {
    "colab": {
      "provenance": []
    },
    "kernelspec": {
      "name": "python3",
      "display_name": "Python 3"
    },
    "language_info": {
      "name": "python"
    }
  },
  "cells": [
    {
      "cell_type": "markdown",
      "source": [
        "**Project Hunting - Day 1**"
      ],
      "metadata": {
        "id": "xCywKuU58qOB"
      }
    },
    {
      "cell_type": "markdown",
      "source": [
        "The following code contains **four** basic arithmetic operations completed in Python code. These are: **Addition, Subtraction, Multiplication,** and **Division**."
      ],
      "metadata": {
        "id": "vzx7quPE8uya"
      }
    },
    {
      "cell_type": "code",
      "source": [
        "# Addition of two numbers in Python:\n",
        "number_1 = 10\n",
        "number_2 = 20\n",
        "\n",
        "s = number_1 + number_2\n",
        "print (s)\n",
        "\n",
        "\n",
        "# Shortcut: Instead of assigning the sum in a new variable \"s\", we can simply\n",
        "# add it and print it with the following command.\n",
        "# print(number_1 + number_2)\n",
        "# This will look like the following:\n",
        "\n",
        "number_1 = 10\n",
        "number_2 = 20\n",
        "\n",
        "print (number_1 + number_2)"
      ],
      "metadata": {
        "colab": {
          "base_uri": "https://localhost:8080/"
        },
        "id": "aSTRkHzJ72FL",
        "outputId": "4711d36e-80dc-4b7c-8ebc-5c25b3872b2a"
      },
      "execution_count": 9,
      "outputs": [
        {
          "output_type": "stream",
          "name": "stdout",
          "text": [
            "30\n",
            "30\n"
          ]
        }
      ]
    },
    {
      "cell_type": "markdown",
      "source": [
        "Both methods give the same sum. The second method saves processing time by not assigning the sum to a new third variable."
      ],
      "metadata": {
        "id": "5qYZpTme9xMQ"
      }
    },
    {
      "cell_type": "code",
      "source": [
        "# Subtraction  in Python:\n",
        "number_1 = 30\n",
        "number_2 = 20\n",
        "\n",
        "difference = number_1 - number_2\n",
        "print (difference)"
      ],
      "metadata": {
        "colab": {
          "base_uri": "https://localhost:8080/"
        },
        "id": "nafGjxnO713Z",
        "outputId": "06f25c98-505e-4fec-dd29-8ceaa77f5055"
      },
      "execution_count": 4,
      "outputs": [
        {
          "output_type": "stream",
          "name": "stdout",
          "text": [
            "10\n"
          ]
        }
      ]
    },
    {
      "cell_type": "markdown",
      "source": [
        "Be careful of what number you are subtracting from which number!"
      ],
      "metadata": {
        "id": "dfoCYhs-9vbI"
      }
    },
    {
      "cell_type": "code",
      "source": [
        "# Multiplication  in Python:\n",
        "number_1 = 5\n",
        "number_2 = 8\n",
        "\n",
        "m = number_1 * number_2\n",
        "print (m)"
      ],
      "metadata": {
        "colab": {
          "base_uri": "https://localhost:8080/"
        },
        "id": "A8kUWx9I8STc",
        "outputId": "b69abd41-7587-41cb-cb42-0d7521032001"
      },
      "execution_count": 5,
      "outputs": [
        {
          "output_type": "stream",
          "name": "stdout",
          "text": [
            "40\n"
          ]
        }
      ]
    },
    {
      "cell_type": "markdown",
      "source": [
        "Now I don't need to learn multiplication tables because I know Python codes:)"
      ],
      "metadata": {
        "id": "TqgG25WD-RNd"
      }
    },
    {
      "cell_type": "code",
      "source": [
        "# Division  in Python:\n",
        "number_1 = 9\n",
        "number_2 = 2\n",
        "\n",
        "d = number_1 / number_2\n",
        "print (d)"
      ],
      "metadata": {
        "colab": {
          "base_uri": "https://localhost:8080/"
        },
        "id": "SHjOqByp8fBs",
        "outputId": "11345dfe-0dc4-4988-8b30-17c137189233"
      },
      "execution_count": 6,
      "outputs": [
        {
          "output_type": "stream",
          "name": "stdout",
          "text": [
            "4.5\n"
          ]
        }
      ]
    },
    {
      "cell_type": "markdown",
      "source": [
        "Also called as **Floating Point Division**. This is the most commonly used division method. This method gives output in floating integers (with decimal points).\n",
        "\n",
        "There are two more division methods- **Floor Division** and **Modulus Operator Division**. These should be covered in Part-2."
      ],
      "metadata": {
        "id": "jRdnpCLQ-vkM"
      }
    },
    {
      "cell_type": "markdown",
      "source": [
        "**End of Day 1!**"
      ],
      "metadata": {
        "id": "yFbx--oM_2Dd"
      }
    }
  ]
}