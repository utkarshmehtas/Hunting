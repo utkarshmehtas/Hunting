{
  "nbformat": 4,
  "nbformat_minor": 0,
  "metadata": {
    "colab": {
      "provenance": []
    },
    "kernelspec": {
      "name": "python3",
      "display_name": "Python 3"
    },
    "language_info": {
      "name": "python"
    }
  },
  "cells": [
    {
      "cell_type": "markdown",
      "source": [
        "**Project Hunting - Day 2**\n"
      ],
      "metadata": {
        "id": "xCywKuU58qOB"
      }
    },
    {
      "cell_type": "markdown",
      "source": [
        "The following code contains two more types of division and a demonstration of the order of arithmetic calculations in **Python**."
      ],
      "metadata": {
        "id": "vzx7quPE8uya"
      }
    },
    {
      "cell_type": "code",
      "source": [
        "# Floor Division of two numbers in Python:\n",
        "number_1 = 10\n",
        "number_2 = 3\n",
        "\n",
        "s = number_1 // number_2\n",
        "print (s)"
      ],
      "metadata": {
        "colab": {
          "base_uri": "https://localhost:8080/"
        },
        "id": "aSTRkHzJ72FL",
        "outputId": "80904ba1-07a7-49d2-80c8-3b5ff13bb517"
      },
      "execution_count": 2,
      "outputs": [
        {
          "output_type": "stream",
          "name": "stdout",
          "text": [
            "3\n"
          ]
        }
      ]
    },
    {
      "cell_type": "markdown",
      "source": [
        "**Floor division** returns the largest integer which is less than or equal to the result. In the above example, the normal division would've given us 3.3333... However, floor division gives the largest integer which is less than or equal to this value. In this case, the largest such integer is 3."
      ],
      "metadata": {
        "id": "5qYZpTme9xMQ"
      }
    },
    {
      "cell_type": "code",
      "source": [
        "# Example-2: Floor Division of two numbers in Python:\n",
        "number_1 = 10.0\n",
        "number_2 = 3\n",
        "\n",
        "s = number_1 // number_2\n",
        "print (s)"
      ],
      "metadata": {
        "colab": {
          "base_uri": "https://localhost:8080/"
        },
        "id": "nafGjxnO713Z",
        "outputId": "e4de9f7e-86f1-4485-c255-c2d9c3f22e7f"
      },
      "execution_count": 3,
      "outputs": [
        {
          "output_type": "stream",
          "name": "stdout",
          "text": [
            "3.0\n"
          ]
        }
      ]
    },
    {
      "cell_type": "markdown",
      "source": [
        "In this case, the first number is a float number therefore the output is also a float number. However, because of floor division, we still get the closest largest number which is less than or equal to 3.333..."
      ],
      "metadata": {
        "id": "dfoCYhs-9vbI"
      }
    },
    {
      "cell_type": "code",
      "source": [
        "# Modulus Operator  in Python:\n",
        "number_1 = 8\n",
        "number_2 = 3\n",
        "\n",
        "m = number_1 % number_2\n",
        "print (m)"
      ],
      "metadata": {
        "colab": {
          "base_uri": "https://localhost:8080/"
        },
        "id": "A8kUWx9I8STc",
        "outputId": "d772bf4c-a7f7-4738-dca6-6a9ad7129329"
      },
      "execution_count": 5,
      "outputs": [
        {
          "output_type": "stream",
          "name": "stdout",
          "text": [
            "2\n"
          ]
        }
      ]
    },
    {
      "cell_type": "markdown",
      "source": [
        "Modulus operator is used for calculating remainders. On dividing 8 by 3, we get remainder as 2 (3*2 + 2 = 8)."
      ],
      "metadata": {
        "id": "TqgG25WD-RNd"
      }
    },
    {
      "cell_type": "code",
      "source": [
        "# Three Types of Division  in Python:\n",
        "number_1 = 9\n",
        "number_2 = 2\n",
        "\n",
        "d1 = number_1 / number_2    # Normal Division\n",
        "d2 = number_1 // number_2   # Floor Division\n",
        "d3 = number_1 % number_2    # Modulus Operator\n",
        "print (d1)\n",
        "print (d2)\n",
        "print (d3)"
      ],
      "metadata": {
        "colab": {
          "base_uri": "https://localhost:8080/"
        },
        "id": "SHjOqByp8fBs",
        "outputId": "e162e31c-d305-43a8-c06b-af085c5e5bc1"
      },
      "execution_count": 6,
      "outputs": [
        {
          "output_type": "stream",
          "name": "stdout",
          "text": [
            "4.5\n",
            "4\n",
            "1\n"
          ]
        }
      ]
    },
    {
      "cell_type": "markdown",
      "source": [
        "On dividing the same number (9) by 2, we get three different results.\n",
        "\n",
        "\n",
        "*   The first one (4.5) is our normal, daily life division value (quotient).\n",
        "*   The second one (4) is the closest largest integer value which is less than or equal to 4.5.\n",
        "*   The third one (1) is simply the remainder that we get on dividing 9 by 2.\n",
        "\n"
      ],
      "metadata": {
        "id": "jRdnpCLQ-vkM"
      }
    },
    {
      "cell_type": "code",
      "source": [
        "# Arithmetic Example:\n",
        "\n",
        "a = 10\n",
        "b = 2\n",
        "c = 9\n",
        "d = 5\n",
        "\n",
        "result = a/b + c*d\n",
        "result = result - a*b\n",
        "\n",
        "print(int(result))"
      ],
      "metadata": {
        "colab": {
          "base_uri": "https://localhost:8080/"
        },
        "id": "-6kVhr9VZjS-",
        "outputId": "5cee44ef-da2f-43d3-b54c-5408fe3d4471"
      },
      "execution_count": 14,
      "outputs": [
        {
          "output_type": "stream",
          "name": "stdout",
          "text": [
            "30\n"
          ]
        }
      ]
    },
    {
      "cell_type": "markdown",
      "source": [
        "The above code is an example of the **OPERATOR PRECEDENCE**, also referred to as **BODMAS** in mathematics. On using multiple operators within one equation, the *operator with the highest precedence is given priority over other operators*.\n",
        "\n",
        "In our example, division occurs first (a/b = 5.0) and multiplication occurs separately (c*d = 45). Then the sum of both is calculated and is stored in \"**result**\" (5 + 45 = 50.0).\n",
        "\n",
        "Then the result is over written by a new value which is the difference of the result and the multiplication of variables a and b (50 - 10*2 = 30.0).\n",
        "\n",
        "Final result is printed in its integer form (30)."
      ],
      "metadata": {
        "id": "oHxP3i-XaOM3"
      }
    },
    {
      "cell_type": "markdown",
      "source": [
        "**End of Day 2!**"
      ],
      "metadata": {
        "id": "yFbx--oM_2Dd"
      }
    }
  ]
}