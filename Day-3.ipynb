{
  "nbformat": 4,
  "nbformat_minor": 0,
  "metadata": {
    "colab": {
      "provenance": []
    },
    "kernelspec": {
      "name": "python3",
      "display_name": "Python 3"
    },
    "language_info": {
      "name": "python"
    }
  },
  "cells": [
    {
      "cell_type": "markdown",
      "source": [
        "**Project Hunting - Day 3**\n"
      ],
      "metadata": {
        "id": "xCywKuU58qOB"
      }
    },
    {
      "cell_type": "markdown",
      "source": [
        "The following code contains more examples on Operator Precedence, Logical operators, and exponential of division in **Python**."
      ],
      "metadata": {
        "id": "vzx7quPE8uya"
      }
    },
    {
      "cell_type": "code",
      "source": [
        "# Example of Operator Precedence in Python:\n",
        "a = 10\n",
        "b = 5\n",
        "c = 1\n",
        "\n",
        "s = (a+b) + (b-c)\n",
        "print (s)"
      ],
      "metadata": {
        "colab": {
          "base_uri": "https://localhost:8080/"
        },
        "id": "aSTRkHzJ72FL",
        "outputId": "5092c285-8f7b-43ac-8a00-89178419e19f"
      },
      "execution_count": 1,
      "outputs": [
        {
          "output_type": "stream",
          "name": "stdout",
          "text": [
            "19\n"
          ]
        }
      ]
    },
    {
      "cell_type": "markdown",
      "source": [
        "In the above example, brackets have precedence over any other operator, therefore, any equation inside brackets is calculated first.\n",
        "\n",
        "In our case, a + b = 10 + 5 =15;\n",
        "and, b - c = 5 - 1 =4;\n",
        "finally, 15 + 4 = 19"
      ],
      "metadata": {
        "id": "5qYZpTme9xMQ"
      }
    },
    {
      "cell_type": "code",
      "source": [
        "# Logical Operators in Python:\n",
        "\n",
        "result = True or False and False\n",
        "print(result)"
      ],
      "metadata": {
        "colab": {
          "base_uri": "https://localhost:8080/"
        },
        "id": "nafGjxnO713Z",
        "outputId": "e4c9ab89-4785-42db-bcd0-5535f87ccde3"
      },
      "execution_count": 2,
      "outputs": [
        {
          "output_type": "stream",
          "name": "stdout",
          "text": [
            "True\n"
          ]
        }
      ]
    },
    {
      "cell_type": "markdown",
      "source": [
        " **and** has higher precedence than **or**, so the expression is evaluated as ***True or (False and False)***.\n",
        "\n",
        " False and False = False;\n",
        "\n",
        "\n",
        " True or False = True"
      ],
      "metadata": {
        "id": "1tGLxGlbGc2a"
      }
    },
    {
      "cell_type": "code",
      "source": [
        "# Exponential  in Python:\n",
        "\n",
        "result = 2 ** 3\n",
        "print(result)"
      ],
      "metadata": {
        "colab": {
          "base_uri": "https://localhost:8080/"
        },
        "id": "A8kUWx9I8STc",
        "outputId": "f4a3ff23-8a9e-49bd-f23e-9e8bda7c7bc7"
      },
      "execution_count": 3,
      "outputs": [
        {
          "output_type": "stream",
          "name": "stdout",
          "text": [
            "8\n"
          ]
        }
      ]
    },
    {
      "cell_type": "markdown",
      "source": [
        "In general, a**b implies a raised to the power b. That means a multiplied by itself 'b' times.\n",
        "\n",
        "In our case, 2 raised to the power 3 would be = 2 * 2 * 2 = 8."
      ],
      "metadata": {
        "id": "TqgG25WD-RNd"
      }
    },
    {
      "cell_type": "markdown",
      "source": [
        "**End of Day 3!**"
      ],
      "metadata": {
        "id": "yFbx--oM_2Dd"
      }
    }
  ]
}